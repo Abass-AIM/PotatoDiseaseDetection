{
 "cells": [
  {
   "cell_type": "code",
   "execution_count": null,
   "id": "92cf2a1c-041a-419e-97b5-cc7bb2a6a5c1",
   "metadata": {},
   "outputs": [
    {
     "name": "stderr",
     "output_type": "stream",
     "text": [
      "INFO:     Started server process [9372]\n",
      "INFO:     Waiting for application startup.\n",
      "INFO:     Application startup complete.\n",
      "INFO:     Uvicorn running on http://127.0.0.1:8003 (Press CTRL+C to quit)\n"
     ]
    },
    {
     "name": "stdout",
     "output_type": "stream",
     "text": [
      "INFO:     127.0.0.1:61003 - \"GET / HTTP/1.1\" 404 Not Found\n",
      "INFO:     127.0.0.1:61004 - \"GET /predict HTTP/1.1\" 405 Method Not Allowed\n",
      "INFO:     127.0.0.1:61028 - \"POST /predict HTTP/1.1\" 422 Unprocessable Entity\n",
      "INFO:     127.0.0.1:61028 - \"POST /predict HTTP/1.1\" 422 Unprocessable Entity\n",
      "INFO:     127.0.0.1:61028 - \"POST /predict HTTP/1.1\" 422 Unprocessable Entity\n",
      "INFO:     127.0.0.1:61028 - \"POST /predict HTTP/1.1\" 422 Unprocessable Entity\n"
     ]
    }
   ],
   "source": [
    "import nest_asyncio\n",
    "import uvicorn\n",
    "from fastapi import FastAPI, File, UploadFile\n",
    "import numpy as np\n",
    "from io import BytesIO\n",
    "from PIL import Image\n",
    "import tensorflow as tf\n",
    "import requests\n",
    "\n",
    "nest_asyncio.apply()  # Enables FastAPI to run inside Jupyter\n",
    "\n",
    "app = FastAPI()\n",
    "\n",
    "# Model and endpoint details\n",
    "endpoint = \"http://localhost:8501/v1/models/potato_model:predict\"\n",
    "CLASS_NAMES = [\"Early Blight\", \"Late Blight\", \"Healthy\"]\n",
    "\n",
    "@app.get(\"/ping\")\n",
    "async def ping():\n",
    "    return \"Hello, I am alive\"\n",
    "\n",
    "def read_file_as_image(data) -> np.ndarray:\n",
    "    image = np.array(Image.open(BytesIO(data)).resize((256, 256)))\n",
    "    return np.array(image)\n",
    "\n",
    "@app.post(\"/predict\")\n",
    "async def predict(file: UploadFile = File(...)):\n",
    "    if not file:\n",
    "        return {\"error\": \"No file was uploaded\"}\n",
    "\n",
    "    image = read_file_as_image(await file.read())\n",
    "    img_batch = np.expand_dims(image, 0)\n",
    "\n",
    "    json_data = {\n",
    "        \"instances\": img_batch.tolist()\n",
    "    }\n",
    "\n",
    "    response = requests.post(endpoint, json=json_data)\n",
    "    if response.status_code != 200:\n",
    "        return {\"error\": f\"Prediction failed with status {response.status_code}\"}\n",
    "\n",
    "    prediction = np.array(response.json()[\"predictions\"][0])\n",
    "    predicted_class = CLASS_NAMES[np.argmax(prediction)]\n",
    "    confidence = np.max(prediction)\n",
    "\n",
    "    return {\n",
    "        \"class\": predicted_class,\n",
    "        \"confidence\": float(confidence)\n",
    "    }\n",
    "\n",
    "# Run FastAPI app\n",
    "if __name__ == \"__main__\":\n",
    "    uvicorn.run(app, host=\"127.0.0.1\", port=8003)\n"
   ]
  },
  {
   "cell_type": "code",
   "execution_count": null,
   "id": "7b67beaf-4085-48ba-955a-52c4e9b18bf9",
   "metadata": {},
   "outputs": [],
   "source": [
    "import requests\n",
    "\n",
    "url = \"http://127.0.0.1:8003/predict\"\n",
    "with open('C:\\Users\\abass\\OneDrive\\Desktop\\potato-disease\\Training\\PlantVillage\\Potato___healthy\\00fc2ee5-729f-4757-8aeb-65c3355874f2___RS_HL 1864.JPG', \"rb\") as img_file:\n",
    "    files = {\"file\": img_file}\n",
    "    response = requests.post(url, files=files)\n",
    "\n",
    "print(response.json())\n"
   ]
  },
  {
   "cell_type": "code",
   "execution_count": null,
   "id": "45d3609a-3204-4e32-8b45-bb35f352ede1",
   "metadata": {},
   "outputs": [],
   "source": []
  }
 ],
 "metadata": {
  "kernelspec": {
   "display_name": "Python 3 (ipykernel)",
   "language": "python",
   "name": "python3"
  },
  "language_info": {
   "codemirror_mode": {
    "name": "ipython",
    "version": 3
   },
   "file_extension": ".py",
   "mimetype": "text/x-python",
   "name": "python",
   "nbconvert_exporter": "python",
   "pygments_lexer": "ipython3",
   "version": "3.12.4"
  }
 },
 "nbformat": 4,
 "nbformat_minor": 5
}
